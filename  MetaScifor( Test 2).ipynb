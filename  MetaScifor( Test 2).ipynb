{
 "cells": [
  {
   "cell_type": "code",
   "execution_count": 2,
   "id": "5ce23321-ef8f-4783-aa2e-a43edaeced28",
   "metadata": {},
   "outputs": [
    {
     "name": "stdin",
     "output_type": "stream",
     "text": [
      "enter yur range : 6\n"
     ]
    },
    {
     "name": "stdout",
     "output_type": "stream",
     "text": [
      "[0, 1, 1, 2, 3, 5]\n"
     ]
    }
   ],
   "source": [
    "def fibonacci(n):\n",
    "    if n <= 0:\n",
    "        return []\n",
    "    elif n == 1:\n",
    "        return [0]\n",
    "    elif n == 2:\n",
    "        return [0, 1]\n",
    "    \n",
    "    sequence = [0, 1]\n",
    "    for i in range(2, n):\n",
    "        next_value = sequence[-1] + sequence[-2]\n",
    "        sequence.append(next_value)\n",
    "    \n",
    "    return sequence\n",
    "\n",
    "\n",
    "n=int(input(\"enter yur range :\"))\n",
    "print(fibonacci(n))\n"
   ]
  },
  {
   "cell_type": "code",
   "execution_count": 7,
   "id": "b6d90a54-cfcb-4caa-b06d-1553b1296318",
   "metadata": {},
   "outputs": [
    {
     "name": "stdin",
     "output_type": "stream",
     "text": [
      "enter number  91\n"
     ]
    },
    {
     "name": "stdout",
     "output_type": "stream",
     "text": [
      "False\n"
     ]
    }
   ],
   "source": [
    "def is_prime(num):\n",
    "    \"\"\"Check if a number is a prime number.\"\"\"\n",
    "    if num <= 1:\n",
    "        return False\n",
    "    if num == 2:\n",
    "        return True\n",
    "    if num % 2 == 0:\n",
    "        return False\n",
    "    for i in range(3, int(num**0.5) + 1, 2):\n",
    "        if num % i == 0:\n",
    "            return False\n",
    "    return True\n",
    "n = int(input(\"enter number \"))\n",
    "print(is_prime(n))\n"
   ]
  },
  {
   "cell_type": "code",
   "execution_count": 8,
   "id": "8477e4ab-526c-49fb-9b97-43dad1470d5f",
   "metadata": {},
   "outputs": [
    {
     "name": "stdout",
     "output_type": "stream",
     "text": [
      "First 5 rows of the DataFrame:\n",
      "         Date  Sales Region Manager\n",
      "0  2024-01-01    200  North    John\n",
      "1  2024-01-02    220  South    Jane\n",
      "2  2024-01-03    210   East     Joe\n",
      "3  2024-01-04    215   West    Jake\n",
      "4  2024-01-05    225  North    John\n",
      "\n",
      "DataFrame with the new 'Profit' column:\n",
      "         Date  Sales Region Manager  Profit\n",
      "0  2024-01-01    200  North    John    20.0\n",
      "1  2024-01-02    220  South    Jane    22.0\n",
      "2  2024-01-03    210   East     Joe    21.0\n",
      "3  2024-01-04    215   West    Jake    21.5\n",
      "4  2024-01-05    225  North    John    22.5\n",
      "\n",
      "Total sales for each region:\n",
      "  Region  Sales\n",
      "0   East    210\n",
      "1  North    425\n",
      "2  South    220\n",
      "3   West    215\n",
      "\n",
      "Region with the highest average sales:\n",
      "Region    South\n",
      "Sales     220.0\n",
      "Name: 2, dtype: object\n"
     ]
    }
   ],
   "source": [
    "import pandas as pd\n",
    "\n",
    "data = {\n",
    "    'Date': ['2024-01-01', '2024-01-02', '2024-01-03', '2024-01-04', '2024-01-05'],\n",
    "    'Sales': [200, 220, 210, 215, 225],\n",
    "    'Region': ['North', 'South', 'East', 'West', 'North'],\n",
    "    'Manager': ['John', 'Jane', 'Joe', 'Jake', 'John']\n",
    "}\n",
    "\n",
    "df = pd.DataFrame(data)\n",
    "\n",
    "# Task 1: Load the dataset and display the first 5 rows\n",
    "print(\"First 5 rows of the DataFrame:\")\n",
    "print(df.head())\n",
    "\n",
    "# Task 2: Add a new column 'Profit'\n",
    "df['Profit'] = df['Sales'] * 0.1\n",
    "print(\"\\nDataFrame with the new 'Profit' column:\")\n",
    "print(df)\n",
    "\n",
    "# Task 3: Group by 'Region' and calculate total sales for each region\n",
    "total_sales_by_region = df.groupby('Region')['Sales'].sum().reset_index()\n",
    "print(\"\\nTotal sales for each region:\")\n",
    "print(total_sales_by_region)\n",
    "\n",
    "# Task 4: Find the region with the highest average sales\n",
    "average_sales_by_region = df.groupby('Region')['Sales'].mean().reset_index()\n",
    "highest_avg_sales_region = average_sales_by_region.loc[average_sales_by_region['Sales'].idxmax()]\n",
    "print(\"\\nRegion with the highest average sales:\")\n",
    "print(highest_avg_sales_region)\n"
   ]
  },
  {
   "cell_type": "code",
   "execution_count": 9,
   "id": "084a7886-d19b-4b6f-a089-802c8b663e74",
   "metadata": {},
   "outputs": [
    {
     "name": "stdout",
     "output_type": "stream",
     "text": [
      "First 5 rows of the DataFrame:\n",
      "   PassengerId  Survived  Pclass  \\\n",
      "0            1         0       3   \n",
      "1            2         1       1   \n",
      "2            3         1       3   \n",
      "3            4         1       1   \n",
      "4            5         0       3   \n",
      "\n",
      "                                                Name     Sex   Age  SibSp  \\\n",
      "0                            Braund, Mr. Owen Harris    male  22.0      1   \n",
      "1  Cumings, Mrs. John Bradley (Florence Briggs Th...  female  38.0      1   \n",
      "2                             Heikkinen, Miss. Laina  female  26.0      0   \n",
      "3       Futrelle, Mrs. Jacques Heath (Lily May Peel)  female  35.0      1   \n",
      "4                           Allen, Mr. William Henry    male  35.0      0   \n",
      "\n",
      "   Parch            Ticket     Fare Cabin Embarked  \n",
      "0      0         A/5 21171   7.2500   NaN        S  \n",
      "1      0          PC 17599  71.2833   C85        C  \n",
      "2      0  STON/O2. 3101282   7.9250   NaN        S  \n",
      "3      0            113803  53.1000  C123        S  \n",
      "4      0            373450   8.0500   NaN        S  \n",
      "\n",
      "Summary statistics of the DataFrame:\n",
      "        PassengerId    Survived      Pclass                     Name   Sex  \\\n",
      "count    891.000000  891.000000  891.000000                      891   891   \n",
      "unique          NaN         NaN         NaN                      891     2   \n",
      "top             NaN         NaN         NaN  Braund, Mr. Owen Harris  male   \n",
      "freq            NaN         NaN         NaN                        1   577   \n",
      "mean     446.000000    0.383838    2.308642                      NaN   NaN   \n",
      "std      257.353842    0.486592    0.836071                      NaN   NaN   \n",
      "min        1.000000    0.000000    1.000000                      NaN   NaN   \n",
      "25%      223.500000    0.000000    2.000000                      NaN   NaN   \n",
      "50%      446.000000    0.000000    3.000000                      NaN   NaN   \n",
      "75%      668.500000    1.000000    3.000000                      NaN   NaN   \n",
      "max      891.000000    1.000000    3.000000                      NaN   NaN   \n",
      "\n",
      "               Age       SibSp       Parch  Ticket        Fare    Cabin  \\\n",
      "count   714.000000  891.000000  891.000000     891  891.000000      204   \n",
      "unique         NaN         NaN         NaN     681         NaN      147   \n",
      "top            NaN         NaN         NaN  347082         NaN  B96 B98   \n",
      "freq           NaN         NaN         NaN       7         NaN        4   \n",
      "mean     29.699118    0.523008    0.381594     NaN   32.204208      NaN   \n",
      "std      14.526497    1.102743    0.806057     NaN   49.693429      NaN   \n",
      "min       0.420000    0.000000    0.000000     NaN    0.000000      NaN   \n",
      "25%      20.125000    0.000000    0.000000     NaN    7.910400      NaN   \n",
      "50%      28.000000    0.000000    0.000000     NaN   14.454200      NaN   \n",
      "75%      38.000000    1.000000    0.000000     NaN   31.000000      NaN   \n",
      "max      80.000000    8.000000    6.000000     NaN  512.329200      NaN   \n",
      "\n",
      "       Embarked  \n",
      "count       889  \n",
      "unique        3  \n",
      "top           S  \n",
      "freq        644  \n",
      "mean        NaN  \n",
      "std         NaN  \n",
      "min         NaN  \n",
      "25%         NaN  \n",
      "50%         NaN  \n",
      "75%         NaN  \n",
      "max         NaN  \n",
      "\n",
      "Count of null values in each column:\n",
      "PassengerId      0\n",
      "Survived         0\n",
      "Pclass           0\n",
      "Name             0\n",
      "Sex              0\n",
      "Age            177\n",
      "SibSp            0\n",
      "Parch            0\n",
      "Ticket           0\n",
      "Fare             0\n",
      "Cabin          687\n",
      "Embarked         2\n",
      "dtype: int64\n",
      "\n",
      "Count of null values in the 'Age' column after filling with mean age:\n",
      "0\n",
      "\n",
      "Count of null values in the 'Embarked' column after dropping rows:\n",
      "0\n"
     ]
    }
   ],
   "source": [
    "import pandas as pd\n",
    "\n",
    "# Task 1: Load the dataset from the GitHub URL\n",
    "url = 'https://raw.githubusercontent.com/datasciencedojo/datasets/master/titanic.csv'\n",
    "df = pd.read_csv(url)\n",
    "\n",
    "# Display the first 5 rows of the DataFrame\n",
    "print(\"First 5 rows of the DataFrame:\")\n",
    "print(df.head())\n",
    "\n",
    "# Task 2: Displaying summary statistics of the DataFrame\n",
    "print(\"\\nSummary statistics of the DataFrame:\")\n",
    "print(df.describe(include='all'))\n",
    "\n",
    "# Task 3: Check for null values and display the count of null values in each column\n",
    "print(\"\\nCount of null values in each column:\")\n",
    "print(df.isnull().sum())\n",
    "\n",
    "# Task 4: Fill null values in the 'Age' column with the mean age\n",
    "mean_age = df['Age'].mean()\n",
    "df['Age'].fillna(mean_age, inplace=True)\n",
    "\n",
    "# Verifying that the null values in the 'Age' column have been filled\n",
    "print(\"\\nCount of null values in the 'Age' column after filling with mean age:\")\n",
    "print(df['Age'].isnull().sum())\n",
    "\n",
    "# Task 5: Drop rows where 'Embarked' is null\n",
    "df.dropna(subset=['Embarked'], inplace=True)\n",
    "\n",
    "# Verify that the rows with null 'Embarked' values have been dropped\n",
    "print(\"\\nCount of null values in the 'Embarked' column after dropping rows:\")\n",
    "print(df['Embarked'].isnull().sum())\n"
   ]
  },
  {
   "cell_type": "code",
   "execution_count": 10,
   "id": "eb4c6fad-d70f-4556-878b-89a9f696aec8",
   "metadata": {},
   "outputs": [
    {
     "name": "stdout",
     "output_type": "stream",
     "text": [
      "\n",
      "First 5 rows of the DataFrame with 'FamilySize' column:\n",
      "   PassengerId  Survived  Pclass  \\\n",
      "0            1         0       3   \n",
      "1            2         1       1   \n",
      "2            3         1       3   \n",
      "3            4         1       1   \n",
      "4            5         0       3   \n",
      "\n",
      "                                                Name     Sex   Age  SibSp  \\\n",
      "0                            Braund, Mr. Owen Harris    male  22.0      1   \n",
      "1  Cumings, Mrs. John Bradley (Florence Briggs Th...  female  38.0      1   \n",
      "2                             Heikkinen, Miss. Laina  female  26.0      0   \n",
      "3       Futrelle, Mrs. Jacques Heath (Lily May Peel)  female  35.0      1   \n",
      "4                           Allen, Mr. William Henry    male  35.0      0   \n",
      "\n",
      "   Parch            Ticket     Fare Cabin Embarked  FamilySize  \n",
      "0      0         A/5 21171   7.2500   NaN        S           1  \n",
      "1      0          PC 17599  71.2833   C85        C           1  \n",
      "2      0  STON/O2. 3101282   7.9250   NaN        S           0  \n",
      "3      0            113803  53.1000  C123        S           1  \n",
      "4      0            373450   8.0500   NaN        S           0  \n"
     ]
    }
   ],
   "source": [
    "# Create a new column 'FamilySize' which is the sum of 'SibSp' and 'Parch'\n",
    "df['FamilySize'] = df['SibSp'] + df['Parch']\n",
    "\n",
    "# Display the first 5 rows to verify the new column\n",
    "print(\"\\nFirst 5 rows of the DataFrame with 'FamilySize' column:\")\n",
    "print(df.head())\n"
   ]
  },
  {
   "cell_type": "code",
   "execution_count": 11,
   "id": "40531f16-8618-40d7-8d95-25f13f08939d",
   "metadata": {},
   "outputs": [
    {
     "name": "stdout",
     "output_type": "stream",
     "text": [
      "\n",
      "First 5 rows of the DataFrame with 'Sex' column converted to numerical values:\n",
      "   PassengerId  Survived  Pclass  \\\n",
      "0            1         0       3   \n",
      "1            2         1       1   \n",
      "2            3         1       3   \n",
      "3            4         1       1   \n",
      "4            5         0       3   \n",
      "\n",
      "                                                Name  Sex   Age  SibSp  Parch  \\\n",
      "0                            Braund, Mr. Owen Harris    0  22.0      1      0   \n",
      "1  Cumings, Mrs. John Bradley (Florence Briggs Th...    1  38.0      1      0   \n",
      "2                             Heikkinen, Miss. Laina    1  26.0      0      0   \n",
      "3       Futrelle, Mrs. Jacques Heath (Lily May Peel)    1  35.0      1      0   \n",
      "4                           Allen, Mr. William Henry    0  35.0      0      0   \n",
      "\n",
      "             Ticket     Fare Cabin Embarked  FamilySize  \n",
      "0         A/5 21171   7.2500   NaN        S           1  \n",
      "1          PC 17599  71.2833   C85        C           1  \n",
      "2  STON/O2. 3101282   7.9250   NaN        S           0  \n",
      "3            113803  53.1000  C123        S           1  \n",
      "4            373450   8.0500   NaN        S           0  \n"
     ]
    }
   ],
   "source": [
    "# Convert the 'Sex' column to numerical values (male: 0, female: 1)\n",
    "df['Sex'] = df['Sex'].map({'male': 0, 'female': 1})\n",
    "\n",
    "# Display the first 5 rows to verify the conversion\n",
    "print(\"\\nFirst 5 rows of the DataFrame with 'Sex' column converted to numerical values:\")\n",
    "print(df.head())\n"
   ]
  },
  {
   "cell_type": "code",
   "execution_count": 12,
   "id": "93955d37-297d-443d-ba34-f7599d78b615",
   "metadata": {},
   "outputs": [
    {
     "name": "stdout",
     "output_type": "stream",
     "text": [
      "\n",
      "Average fare for each class:\n",
      "   Pclass       Fare\n",
      "0       1  84.193516\n",
      "1       2  20.662183\n",
      "2       3  13.675550\n"
     ]
    }
   ],
   "source": [
    "# Group the data by 'Pclass' and calculate the average fare for each class\n",
    "average_fare_by_class = df.groupby('Pclass')['Fare'].mean().reset_index()\n",
    "\n",
    "print(\"\\nAverage fare for each class:\")\n",
    "print(average_fare_by_class)\n"
   ]
  },
  {
   "cell_type": "code",
   "execution_count": 13,
   "id": "0682ff16-ec8e-460b-b82d-3279a201bab2",
   "metadata": {},
   "outputs": [
    {
     "name": "stdout",
     "output_type": "stream",
     "text": [
      "\n",
      "Most common port of embarkation:\n",
      "S\n"
     ]
    }
   ],
   "source": [
    "# Find the most common port of embarkation\n",
    "most_common_embarked = df['Embarked'].mode()[0]\n",
    "\n",
    "print(\"\\nMost common port of embarkation:\")\n",
    "print(most_common_embarked)\n"
   ]
  },
  {
   "cell_type": "code",
   "execution_count": 14,
   "id": "44d98c49-7acb-4398-9dd7-7d4305d3e905",
   "metadata": {},
   "outputs": [
    {
     "name": "stdout",
     "output_type": "stream",
     "text": [
      "\n",
      "Survival rate for each combination of 'Sex' and 'Pclass':\n",
      "Pclass         1         2         3\n",
      "Sex                                 \n",
      "0       0.368852  0.157407  0.135447\n",
      "1       0.967391  0.921053  0.500000\n"
     ]
    }
   ],
   "source": [
    "# Create a pivot table that shows the survival rate for each combination of 'Sex' and 'Pclass'\n",
    "survival_rate_pivot = df.pivot_table(values='Survived', index='Sex', columns='Pclass', aggfunc='mean')\n",
    "\n",
    "print(\"\\nSurvival rate for each combination of 'Sex' and 'Pclass':\")\n",
    "print(survival_rate_pivot)\n"
   ]
  },
  {
   "cell_type": "code",
   "execution_count": null,
   "id": "0bffb08c-71c6-472f-808a-19983bf96a99",
   "metadata": {},
   "outputs": [],
   "source": []
  }
 ],
 "metadata": {
  "kernelspec": {
   "display_name": "Python 3 (ipykernel)",
   "language": "python",
   "name": "python3"
  },
  "language_info": {
   "codemirror_mode": {
    "name": "ipython",
    "version": 3
   },
   "file_extension": ".py",
   "mimetype": "text/x-python",
   "name": "python",
   "nbconvert_exporter": "python",
   "pygments_lexer": "ipython3",
   "version": "3.11.7"
  }
 },
 "nbformat": 4,
 "nbformat_minor": 5
}
